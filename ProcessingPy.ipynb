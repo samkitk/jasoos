{
 "cells": [
  {
   "cell_type": "code",
   "execution_count": 47,
   "metadata": {},
   "outputs": [],
   "source": [
    "import cv2\n",
    "import numpy as np\n",
    "import pytesseract\n",
    "import imutils"
   ]
  },
  {
   "cell_type": "code",
   "execution_count": 48,
   "metadata": {},
   "outputs": [],
   "source": [
    "# Reads the image and resizes it\n",
    "img = cv2.imread('007.jpg',cv2.IMREAD_COLOR)\n",
    "img = cv2.resize(img, (600,400) )"
   ]
  },
  {
   "cell_type": "code",
   "execution_count": 49,
   "metadata": {},
   "outputs": [],
   "source": [
    "# Grayscales\n",
    "gray = cv2.cvtColor(img, cv2.COLOR_BGR2GRAY) \n",
    "gray = cv2.bilateralFilter(gray, 13, 55, 55)\n",
    "# cv2.imshow('gray',gray)"
   ]
  },
  {
   "cell_type": "code",
   "execution_count": 50,
   "metadata": {},
   "outputs": [],
   "source": [
    "# Binarizes the image \n",
    "edged = cv2.Canny(gray, 30, 200)\n",
    "# cv2.imshow('binarized',edged)"
   ]
  },
  {
   "cell_type": "code",
   "execution_count": 51,
   "metadata": {},
   "outputs": [],
   "source": [
    "# Grabs the counters using a rectangular box and crops that\n",
    "contours = cv2.findContours(edged.copy(), cv2.RETR_TREE, cv2.CHAIN_APPROX_SIMPLE)\n",
    "contours = imutils.grab_contours(contours)\n",
    "contours = sorted(contours, key = cv2.contourArea, reverse = True)[:10]\n",
    "screenCnt = None"
   ]
  },
  {
   "cell_type": "code",
   "execution_count": 52,
   "metadata": {},
   "outputs": [],
   "source": [
    "# Find all the enclosures, and iterate a for loop to find a rectangular enclosure\n",
    "for c in contours:\n",
    "    \n",
    "    peri = cv2.arcLength(c, True)\n",
    "    approx = cv2.approxPolyDP(c, 0.018 * peri, True)\n",
    " \n",
    "    if len(approx) == 4:\n",
    "        screenCnt = approx\n",
    "        break\n",
    "\n",
    "if screenCnt is None:\n",
    "    detected = 0\n",
    "    print (\"No contour detected\")\n",
    "else:\n",
    "     detected = 1\n"
   ]
  },
  {
   "cell_type": "code",
   "execution_count": 53,
   "metadata": {},
   "outputs": [
    {
     "name": "stdout",
     "output_type": "stream",
     "text": [
      "The Number Plate is: ~HR26DK83##\n",
      "\f",
      "\n"
     ]
    }
   ],
   "source": [
    "# Only the number plate is made visible, and rest is masked\n",
    "if detected == 1:\n",
    "    cv2.drawContours(img, [screenCnt], -1, (0, 0, 255), 3)\n",
    "    mask = np.zeros(gray.shape,np.uint8)\n",
    "    new_image = cv2.drawContours(mask,[screenCnt],0,255,-1,)\n",
    "    new_image = cv2.bitwise_and(img,img,mask=mask)\n",
    "\n",
    "# The masked area is cropped and individual characters are segmented\n",
    "    (x, y) = np.where(mask == 255)\n",
    "    (topx, topy) = (np.min(x), np.min(y))\n",
    "    (bottomx, bottomy) = (np.max(x), np.max(y))\n",
    "    Cropped = gray[topx:bottomx+1, topy:bottomy+1]\n",
    "\n",
    "# Pytesseract uses OCR here to recognise these charaters\n",
    "    text = pytesseract.image_to_string(Cropped, config='--psm 11')\n",
    "    print(\"The Number Plate is:\",text)\n",
    "    img = cv2.resize(img,(500,300))\n",
    "    Cropped = cv2.resize(Cropped,(400,200))\n",
    "#     cv2.imshow('car',img)\n",
    "#     cv2.imshow('Cropped',Cropped)\n",
    "\n",
    "else:\n",
    "    print(\"Please click a clearer photo\")\n",
    "\n",
    "# Closes the program\n",
    "# cv2.waitKey(0)\n",
    "# cv2.destroyAllWindows()"
   ]
  },
  {
   "cell_type": "code",
   "execution_count": null,
   "metadata": {},
   "outputs": [],
   "source": []
  }
 ],
 "metadata": {
  "kernelspec": {
   "display_name": "Python 3",
   "language": "python",
   "name": "python3"
  },
  "language_info": {
   "codemirror_mode": {
    "name": "ipython",
    "version": 3
   },
   "file_extension": ".py",
   "mimetype": "text/x-python",
   "name": "python",
   "nbconvert_exporter": "python",
   "pygments_lexer": "ipython3",
   "version": "3.8.5"
  }
 },
 "nbformat": 4,
 "nbformat_minor": 4
}
